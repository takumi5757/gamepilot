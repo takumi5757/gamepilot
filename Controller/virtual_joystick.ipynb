{
 "cells": [
  {
   "cell_type": "code",
   "execution_count": 30,
   "metadata": {},
   "outputs": [],
   "source": [
    "import random\n",
    "import time\n",
    "\n",
    "from evdev import UInput, list_devices,InputDevice, AbsInfo, ecodes as e"
   ]
  },
  {
   "cell_type": "code",
   "execution_count": 26,
   "metadata": {},
   "outputs": [
    {
     "name": "stdout",
     "output_type": "stream",
     "text": [
      "/dev/input/event24, SZMY-POWER CO.,LTD. PLAYSTATION(R)3 Controller\n",
      "/dev/input/event25, test\n",
      "どのデバイスの仮想デバイスを作成しますか？\n",
      "パスを入力してください\n",
      ">> a\n"
     ]
    }
   ],
   "source": [
    "devices = [InputDevice(path) for path in list_devices()]\n",
    "for device in devices:\n",
    "    print(f\"{device.path}, {device.name}\")\n",
    "print(\"どのデバイスの仮想デバイスを作成しますか？\")\n",
    "print(\"パスを入力してください\")\n",
    "\n",
    "device_path = input(\">> \") "
   ]
  },
  {
   "cell_type": "code",
   "execution_count": 31,
   "metadata": {},
   "outputs": [],
   "source": [
    "device_path = '/dev/input/event24'"
   ]
  },
  {
   "cell_type": "code",
   "execution_count": 33,
   "metadata": {},
   "outputs": [],
   "source": [
    "vjoy = UInput.from_device(InputDevice(device_path),name='tesst')"
   ]
  },
  {
   "cell_type": "code",
   "execution_count": 48,
   "metadata": {},
   "outputs": [],
   "source": [
    "for i in range(20):\n",
    "    time.sleep(1)\n",
    "    vjoy.write(e.EV_ABS, e.ABS_X, int(256*random.random()))#steer\n",
    "    vjoy.write(e.EV_ABS, e.ABS_RZ, int(256*random.random()))#accel\n",
    "    vjoy.write(e.EV_ABS, e.ABS_Z, int(256*random.random()))#brake\n",
    "    vjoy.write(e.EV_ABS, e.ABS_Z, 0)#brake\n",
    "    vjoy.syn()\n",
    "vjoy.write(e.EV_ABS, e.ABS_X, 128)\n",
    "vjoy.write(e.EV_ABS, e.ABS_RZ, 0)\n",
    "vjoy.write(e.EV_ABS, e.ABS_Z, 0)\n",
    "vjoy.syn()"
   ]
  },
  {
   "cell_type": "code",
   "execution_count": 8,
   "metadata": {},
   "outputs": [
    {
     "data": {
      "text/plain": [
       "evdev.uinput.UInput"
      ]
     },
     "execution_count": 8,
     "metadata": {},
     "output_type": "execute_result"
    }
   ],
   "source": [
    "type(vjoy)"
   ]
  },
  {
   "cell_type": "code",
   "execution_count": 9,
   "metadata": {},
   "outputs": [],
   "source": [
    "def contoller(vjoystick, steer_value, accel_value, brake_value, dt):\n",
    "    \"\"\"バーチャルなジョイスティックを操作する\n",
    "    \n",
    "    Args:\n",
    "        vjoystick(evdev.uinput.UInput): バーチャルジョイスティックインスタンス\n",
    "        steer_value(int): ステアリング操作量、0~256の整数、中心が128\n",
    "        accel_value(int): アクセル操作量、0~256の整数、フルスロットルが256\n",
    "        brake_value(int): ブレーキ操作量、0~256の整数、フルブレーキが256\n",
    "        dt(float): 入力する時間\n",
    "        \n",
    "    \"\"\"\n",
    "    vjoy.write(e.EV_ABS, e.ABS_X, steer_value)#steer\n",
    "    vjoy.write(e.EV_ABS, e.ABS_RZ, accel_value)#accel\n",
    "    vjoy.write(e.EV_ABS, e.ABS_Z, brake_value)#brake\n",
    "    vjoy.write(e.EV_ABS, e.ABS_Z, 0)#brake\n",
    "    vjoy.syn()\n",
    "    time.sleep(dt)\n",
    "    "
   ]
  },
  {
   "cell_type": "code",
   "execution_count": 8,
   "metadata": {},
   "outputs": [
    {
     "data": {
      "text/plain": [
       "InputDevice('/dev/input/event30')"
      ]
     },
     "execution_count": 8,
     "metadata": {},
     "output_type": "execute_result"
    }
   ],
   "source": [
    "vjoy.device"
   ]
  },
  {
   "cell_type": "code",
   "execution_count": 20,
   "metadata": {},
   "outputs": [],
   "source": [
    "contoller(vjoy, 128,0,0,1)"
   ]
  },
  {
   "cell_type": "code",
   "execution_count": 10,
   "metadata": {},
   "outputs": [
    {
     "data": {
      "text/plain": [
       "{('EV_SYN', 0): [('SYN_REPORT', 0),\n",
       "  ('SYN_CONFIG', 1),\n",
       "  ('SYN_DROPPED', 3),\n",
       "  ('?', 4),\n",
       "  ('?', 21)],\n",
       " ('EV_KEY', 1): [(['BTN_A', 'BTN_GAMEPAD', 'BTN_SOUTH'], 304),\n",
       "  (['BTN_B', 'BTN_EAST'], 305),\n",
       "  (['BTN_NORTH', 'BTN_X'], 307),\n",
       "  (['BTN_WEST', 'BTN_Y'], 308),\n",
       "  ('BTN_TL', 310),\n",
       "  ('BTN_TR', 311),\n",
       "  ('BTN_TL2', 312),\n",
       "  ('BTN_TR2', 313),\n",
       "  ('BTN_SELECT', 314),\n",
       "  ('BTN_START', 315),\n",
       "  ('BTN_MODE', 316),\n",
       "  ('BTN_THUMBL', 317),\n",
       "  ('BTN_THUMBR', 318),\n",
       "  ('BTN_DPAD_UP', 544),\n",
       "  ('BTN_DPAD_DOWN', 545),\n",
       "  ('BTN_DPAD_LEFT', 546),\n",
       "  ('BTN_DPAD_RIGHT', 547)],\n",
       " ('EV_ABS',\n",
       "  3): [(('ABS_X', 0),\n",
       "   AbsInfo(value=128, min=0, max=255, fuzz=0, flat=15, resolution=0)), (('ABS_Y',\n",
       "    1),\n",
       "   AbsInfo(value=125, min=0, max=255, fuzz=0, flat=15, resolution=0)), (('ABS_Z',\n",
       "    2),\n",
       "   AbsInfo(value=0, min=0, max=255, fuzz=0, flat=15, resolution=0)), (('ABS_RX',\n",
       "    3),\n",
       "   AbsInfo(value=128, min=0, max=255, fuzz=0, flat=15, resolution=0)), (('ABS_RY',\n",
       "    4),\n",
       "   AbsInfo(value=128, min=0, max=255, fuzz=0, flat=15, resolution=0)), (('ABS_RZ',\n",
       "    5),\n",
       "   AbsInfo(value=0, min=0, max=255, fuzz=0, flat=15, resolution=0))],\n",
       " ('EV_MSC', 4): [('MSC_SCAN', 4)]}"
      ]
     },
     "execution_count": 10,
     "metadata": {},
     "output_type": "execute_result"
    }
   ],
   "source": [
    "vjoy.capabilities(verbose=True)"
   ]
  }
 ],
 "metadata": {
  "kernelspec": {
   "display_name": "Python 3",
   "language": "python",
   "name": "python3"
  },
  "language_info": {
   "codemirror_mode": {
    "name": "ipython",
    "version": 3
   },
   "file_extension": ".py",
   "mimetype": "text/x-python",
   "name": "python",
   "nbconvert_exporter": "python",
   "pygments_lexer": "ipython3",
   "version": "3.8.2"
  }
 },
 "nbformat": 4,
 "nbformat_minor": 4
}
