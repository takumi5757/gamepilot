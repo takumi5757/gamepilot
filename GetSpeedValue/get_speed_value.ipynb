{
 "cells": [
  {
   "cell_type": "code",
   "execution_count": 1,
   "metadata": {},
   "outputs": [],
   "source": [
    "from PIL import ImageGrab\n",
    "import time\n",
    "from PIL import Image\n",
    "import sys\n",
    "import pyocr\n",
    "import pyocr.builders\n",
    "\n",
    "    \"\"\"    Args:    :    Return:    :    \"\"\"\n",
    "\n",
    "def get_speed_value():\n",
    "    \"\"\" ディスプレイ左上に置いた1280*720のeurotruck2の画面から、speedを読み取る\n",
    "    \n",
    "    Args:\n",
    "        : \n",
    "        :\n",
    "    Return:\n",
    "        : \n",
    "    \"\"\"\n",
    "    bbox = (1000, 510, 1020, 530)\n",
    "\n",
    "    while True:\n",
    "        try:\n",
    "            temp_pil_im = ImageGrab.grab(bbox=bbox)\n",
    "\n",
    "            txt = tool.image_to_string(\n",
    "                temp_pil_im,\n",
    "                lang=\"eng\",\n",
    "                builder=pyocr.builders.DigitBuilder(tesseract_layout=6)\n",
    "            )\n",
    "            if txt.isdigit():\n",
    "                print(f\"speed:{int(txt)}\")\n",
    "\n",
    "        except KeyboardInterrupt:\n",
    "            print(\"end\")\n",
    "            break\n",
    "            \n",
    "def cv2pil(image):\n",
    "    \"\"\" OpenCV型→PIL型\n",
    "    \n",
    "    Args:\n",
    "        image(np.ndarray): OpenCVで読んだ画像データ \n",
    "    Return:\n",
    "        new_image(PIL.Image.Image):PIL型の画像データ \n",
    "    \"\"\"\n",
    "    import cv2\n",
    "    \n",
    "    new_image = image.copy()\n",
    "    if new_image.ndim == 2:  # モノクロ\n",
    "        pass\n",
    "    elif new_image.shape[2] == 3:  # カラー\n",
    "        new_image = cv2.cvtColor(image, cv2.COLOR_BGR2RGB)\n",
    "    elif new_image.shape[2] == 4:  # 透過\n",
    "        new_image = cv2.cvtColor(image, cv2.COLOR_BGRA2RGBA)\n",
    "    new_image = Image.fromarray(new_image)\n",
    "    return new_image"
   ]
  },
  {
   "cell_type": "code",
   "execution_count": 18,
   "metadata": {},
   "outputs": [
    {
     "data": {
      "text/plain": [
       "module"
      ]
     },
     "execution_count": 18,
     "metadata": {},
     "output_type": "execute_result"
    }
   ],
   "source": [
    "type(tool)"
   ]
  },
  {
   "cell_type": "code",
   "execution_count": 13,
   "metadata": {},
   "outputs": [
    {
     "name": "stdout",
     "output_type": "stream",
     "text": [
      "speed:55\n",
      "speed:55\n",
      "speed:55\n",
      "speed:55\n",
      "speed:55\n",
      "speed:55\n",
      "speed:55\n",
      "speed:55\n",
      "speed:55\n",
      "speed:55\n",
      "speed:55\n",
      "speed:55\n",
      "end\n"
     ]
    }
   ],
   "source": [
    "import time\n",
    "bbox = (1000, 510, 1020, 530)\n",
    "\n",
    "while True:\n",
    "    try:\n",
    "        temp_pil_im = ImageGrab.grab(bbox=bbox)\n",
    "\n",
    "        txt = tool.image_to_string(\n",
    "            temp_pil_im,\n",
    "            lang=\"eng\",\n",
    "            builder=pyocr.builders.DigitBuilder(tesseract_layout=6)\n",
    "        )\n",
    "        if txt.isdigit():\n",
    "            print(f\"speed:{int(txt)}\")\n",
    "        \n",
    "    except KeyboardInterrupt:\n",
    "        print(\"end\")\n",
    "        break"
   ]
  },
  {
   "cell_type": "code",
   "execution_count": 17,
   "metadata": {},
   "outputs": [
    {
     "data": {
      "text/plain": [
       "PIL.Image.Image"
      ]
     },
     "execution_count": 17,
     "metadata": {},
     "output_type": "execute_result"
    }
   ],
   "source": [
    "type(ImageGrab.grab(bbox=bbox))"
   ]
  },
  {
   "cell_type": "code",
   "execution_count": 32,
   "metadata": {},
   "outputs": [],
   "source": [
    "time.sleep(3)\n",
    "for i in range(20):\n",
    "    ImageGrab.grab(bbox=bbox).save(f\"jpg/speed_value_{i}.jpg\")\n",
    "    time.sleep(1)"
   ]
  },
  {
   "cell_type": "code",
   "execution_count": 6,
   "metadata": {},
   "outputs": [],
   "source": [
    "img_or = cv2.imread('jpg/speed_value_10.jpg')"
   ]
  },
  {
   "cell_type": "code",
   "execution_count": 15,
   "metadata": {},
   "outputs": [],
   "source": [
    "import cv2"
   ]
  },
  {
   "cell_type": "code",
   "execution_count": 16,
   "metadata": {},
   "outputs": [
    {
     "data": {
      "text/plain": [
       "numpy.ndarray"
      ]
     },
     "execution_count": 16,
     "metadata": {},
     "output_type": "execute_result"
    }
   ],
   "source": [
    "img_sample = cv2.imread('jpg/speed_value_6.jpg')\n",
    "type(img_sample)"
   ]
  },
  {
   "cell_type": "code",
   "execution_count": 3,
   "metadata": {},
   "outputs": [
    {
     "name": "stdout",
     "output_type": "stream",
     "text": [
      "Will use tool 'Tesseract (sh)'\n",
      "Available languages: eng\n",
      "Will use lang 'eng'\n"
     ]
    },
    {
     "ename": "NameError",
     "evalue": "name 'img_sample' is not defined",
     "output_type": "error",
     "traceback": [
      "\u001b[0;31m---------------------------------------------------------------------------\u001b[0m",
      "\u001b[0;31mNameError\u001b[0m                                 Traceback (most recent call last)",
      "\u001b[0;32m<ipython-input-3-3fb976ad3cae>\u001b[0m in \u001b[0;36m<module>\u001b[0;34m\u001b[0m\n\u001b[1;32m     33\u001b[0m \u001b[0;34m\u001b[0m\u001b[0m\n\u001b[1;32m     34\u001b[0m \u001b[0;31m#OCR実行\u001b[0m\u001b[0;34m\u001b[0m\u001b[0;34m\u001b[0m\u001b[0;34m\u001b[0m\u001b[0m\n\u001b[0;32m---> 35\u001b[0;31m \u001b[0mtemp_pil_im\u001b[0m \u001b[0;34m=\u001b[0m \u001b[0mcv2pil\u001b[0m\u001b[0;34m(\u001b[0m\u001b[0mimg_sample\u001b[0m\u001b[0;34m)\u001b[0m \u001b[0;31m#上述の画像処理後の画像データ\u001b[0m\u001b[0;34m\u001b[0m\u001b[0;34m\u001b[0m\u001b[0m\n\u001b[0m\u001b[1;32m     36\u001b[0m txt = tool.image_to_string(\n\u001b[1;32m     37\u001b[0m     \u001b[0mtemp_pil_im\u001b[0m\u001b[0;34m,\u001b[0m\u001b[0;34m\u001b[0m\u001b[0;34m\u001b[0m\u001b[0m\n",
      "\u001b[0;31mNameError\u001b[0m: name 'img_sample' is not defined"
     ]
    }
   ],
   "source": [
    "from PIL import Image\n",
    "import sys\n",
    "import pyocr\n",
    "import pyocr.builders\n",
    "\n",
    "#OpenCV型→PIL型に変換\n",
    "def cv2pil(image):\n",
    "    ''' OpenCV型 -> PIL型 '''\n",
    "    new_image = image.copy()\n",
    "    if new_image.ndim == 2:  # モノクロ\n",
    "        pass\n",
    "    elif new_image.shape[2] == 3:  # カラー\n",
    "        new_image = cv2.cvtColor(image, cv2.COLOR_BGR2RGB)\n",
    "    elif new_image.shape[2] == 4:  # 透過\n",
    "        new_image = cv2.cvtColor(image, cv2.COLOR_BGRA2RGBA)\n",
    "    new_image = Image.fromarray(new_image)\n",
    "    return new_image\n",
    "\n",
    "#OCRの準備\n",
    "tools = pyocr.get_available_tools()\n",
    "if len(tools) == 0:\n",
    "    print(\"No OCR tool found\")\n",
    "    sys.exit(1)\n",
    "# The tools are returned in the recommended order of usage\n",
    "tool = tools[0]\n",
    "print(\"Will use tool '%s'\" % (tool.get_name()))\n",
    "\n",
    "\n",
    "langs = tool.get_available_languages()\n",
    "print(\"Available languages: %s\" % \", \".join(langs))\n",
    "lang = langs[0]\n",
    "print(\"Will use lang '%s'\" % (lang))\n",
    "\n",
    "#OCR実行\n",
    "temp_pil_im = cv2pil(img_sample) #上述の画像処理後の画像データ\n",
    "txt = tool.image_to_string(\n",
    "    temp_pil_im,\n",
    "    lang=\"eng\",\n",
    "    builder=pyocr.builders.DigitBuilder(tesseract_layout=6)\n",
    ")\n",
    "print(f\"speed:{txt}\")\n"
   ]
  },
  {
   "cell_type": "code",
   "execution_count": null,
   "metadata": {},
   "outputs": [],
   "source": [
    "https://reftec.work/posts/2019/6/62/"
   ]
  },
  {
   "cell_type": "code",
   "execution_count": null,
   "metadata": {},
   "outputs": [],
   "source": [
    "import cv2\n",
    "\n",
    "# 1.比較元イメージを読み込む\n",
    "okImage = cv2.imread(\"jpg/speed_value_0.jpg\",0)\n",
    "taImage = cv2.imread(\"jpg/speed_value_10.jpg\",0)\n",
    "\n",
    "# 3.比較する\n",
    "orb = cv2.ORB()\n",
    "kpOk, desOk = orb.detectAndCompute(okImage, None)\n",
    "kpTa, desTa = orb.detectAndCompute(taImage, None)\n",
    "bf = cv2.BFMatcher(cv2.NORM_HAMMING, crossCheck=True)\n",
    "matches = bf.match(desOk, desTa)\n",
    "matches = sorted(matches, key = lambda x:x.distance)\n",
    "dist = [m.distance for m in matches]\n",
    "\n",
    "# 4.比較結果を出力する\n",
    "print(sum(dist) / len(dist))\n",
    "coImage = cv2.drawMatches(okImage,kpOk,taImage,kpTa,matches[:10], None, flags=2)\n",
    "cv2.imwrite(\"jpg/coImage.jpg\", coImage)"
   ]
  },
  {
   "cell_type": "code",
   "execution_count": 1,
   "metadata": {},
   "outputs": [],
   "source": [
    "import cv2"
   ]
  },
  {
   "cell_type": "code",
   "execution_count": 4,
   "metadata": {},
   "outputs": [],
   "source": [
    "orb = cv2.ORB()"
   ]
  },
  {
   "cell_type": "code",
   "execution_count": 1,
   "metadata": {},
   "outputs": [
    {
     "ename": "NameError",
     "evalue": "name 'cv2' is not defined",
     "output_type": "error",
     "traceback": [
      "\u001b[0;31m--------------------------------------------------------------------------\u001b[0m",
      "\u001b[0;31mNameError\u001b[0m                                Traceback (most recent call last)",
      "\u001b[0;32m<ipython-input-1-b4c1499868cf>\u001b[0m in \u001b[0;36m<module>\u001b[0;34m\u001b[0m\n\u001b[0;32m----> 1\u001b[0;31m \u001b[0mokImage\u001b[0m \u001b[0;34m=\u001b[0m \u001b[0mcv2\u001b[0m\u001b[0;34m.\u001b[0m\u001b[0mimread\u001b[0m\u001b[0;34m(\u001b[0m\u001b[0;34m\"jpg/speed_value_0.jpg\"\u001b[0m\u001b[0;34m)\u001b[0m\u001b[0;34m\u001b[0m\u001b[0;34m\u001b[0m\u001b[0m\n\u001b[0m\u001b[1;32m      2\u001b[0m \u001b[0mkpOk\u001b[0m\u001b[0;34m,\u001b[0m \u001b[0mdesOk\u001b[0m \u001b[0;34m=\u001b[0m \u001b[0morb\u001b[0m\u001b[0;34m.\u001b[0m\u001b[0mdetectAndCompute\u001b[0m\u001b[0;34m(\u001b[0m\u001b[0mokImage\u001b[0m\u001b[0;34m,\u001b[0m \u001b[0;32mNone\u001b[0m\u001b[0;34m)\u001b[0m\u001b[0;34m\u001b[0m\u001b[0;34m\u001b[0m\u001b[0m\n",
      "\u001b[0;31mNameError\u001b[0m: name 'cv2' is not defined"
     ]
    }
   ],
   "source": [
    "okImage = cv2.imread(\"jpg/speed_value_0.jpg\")\n",
    "kpOk, desOk = orb.detectAndCompute(okImage, None)"
   ]
  },
  {
   "cell_type": "code",
   "execution_count": null,
   "metadata": {},
   "outputs": [],
   "source": [
    "import numpy as np\n",
    "import cv2\n",
    "from matplotlib import pyplot as plt\n",
    "\n",
    "img = cv2.imread('jpg/speed_value_0.jpg',0)\n",
    "\n",
    "# Initiate STAR detector\n",
    "orb = cv2.ORB()\n",
    "\n",
    "# find the keypoints with ORB\n",
    "kp = orb.detect(img,None)\n",
    "\n",
    "# compute the descriptors with ORB\n",
    "kp, des = orb.compute(img, kp)\n",
    "\n",
    "# draw only keypoints location,not size and orientation\n",
    "img2 = cv2.drawKeypoints(img,kp,color=(0,255,0), flags=0)\n",
    "plt.imshow(img2),plt.show()"
   ]
  },
  {
   "cell_type": "code",
   "execution_count": null,
   "metadata": {},
   "outputs": [],
   "source": []
  }
 ],
 "metadata": {
  "kernelspec": {
   "display_name": "Python 3",
   "language": "python",
   "name": "python3"
  },
  "language_info": {
   "codemirror_mode": {
    "name": "ipython",
    "version": 3
   },
   "file_extension": ".py",
   "mimetype": "text/x-python",
   "name": "python",
   "nbconvert_exporter": "python",
   "pygments_lexer": "ipython3",
   "version": "3.8.2"
  }
 },
 "nbformat": 4,
 "nbformat_minor": 4
}
