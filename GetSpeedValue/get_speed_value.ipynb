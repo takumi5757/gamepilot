{
 "cells": [
  {
   "cell_type": "code",
   "execution_count": 1,
   "metadata": {},
   "outputs": [],
   "source": [
    "\"\"\" ディスプレイ左上に置いた1280*720のeurotruck2の画面から、speedを読み取る\n",
    "\"0x◯◯\"がstr型の場合に動作\n",
    "Args:\n",
    "    : \n",
    "    :\n",
    "Return:\n",
    "    : \n",
    "\"\"\"\n",
    "from PIL import ImageGrab"
   ]
  },
  {
   "cell_type": "code",
   "execution_count": 29,
   "metadata": {},
   "outputs": [],
   "source": [
    "import time\n",
    "bbox = (1000, 510, 1020, 530)\n",
    "time.sleep(5)\n",
    "ImageGrab.grab(bbox=bbox).save(\"speed_value.png\")"
   ]
  },
  {
   "cell_type": "code",
   "execution_count": 32,
   "metadata": {},
   "outputs": [],
   "source": [
    "time.sleep(3)\n",
    "for i in range(20):\n",
    "    ImageGrab.grab(bbox=bbox).save(f\"jpg/speed_value_{i}.jpg\")\n",
    "    time.sleep(1)"
   ]
  },
  {
   "cell_type": "code",
   "execution_count": null,
   "metadata": {},
   "outputs": [],
   "source": []
  }
 ],
 "metadata": {
  "kernelspec": {
   "display_name": "Python 3",
   "language": "python",
   "name": "python3"
  },
  "language_info": {
   "codemirror_mode": {
    "name": "ipython",
    "version": 3
   },
   "file_extension": ".py",
   "mimetype": "text/x-python",
   "name": "python",
   "nbconvert_exporter": "python",
   "pygments_lexer": "ipython3",
   "version": "3.8.2"
  }
 },
 "nbformat": 4,
 "nbformat_minor": 4
}
