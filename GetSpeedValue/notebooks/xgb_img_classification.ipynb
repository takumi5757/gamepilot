{
 "cells": [
  {
   "cell_type": "code",
   "execution_count": 15,
   "metadata": {},
   "outputs": [],
   "source": [
    "import pandas as pd\n",
    "\n",
    "df = pd.read_csv(\"../data/ocr_data.csv\")"
   ]
  },
  {
   "cell_type": "code",
   "execution_count": null,
   "metadata": {},
   "outputs": [],
   "source": [
    "#OCR(tesseract)のaccの確認"
   ]
  },
  {
   "cell_type": "code",
   "execution_count": 30,
   "metadata": {},
   "outputs": [],
   "source": [
    "for index,row in df.iterrows():\n",
    "    if row[\"predict_value\"] != \"NAN\":\n",
    "        df.loc[index,'predict_value'] = int(row[\"predict_value\"])\n",
    "\n",
    "a = (df[\"value\"] == df[\"predict_value\"])\n",
    "\n",
    "ocr_acc = a.value_counts()[True]/len(df)\n",
    "print(ocr_acc)\n",
    "#0.474"
   ]
  },
  {
   "cell_type": "code",
   "execution_count": 34,
   "metadata": {},
   "outputs": [],
   "source": [
    "import numpy as np\n",
    "from PIL import Image\n",
    "import cv2\n",
    "import numpy as np\n",
    "\n",
    "#データ分割用\n",
    "from sklearn.model_selection import train_test_split\n",
    "#XGBoost\n",
    "import xgboost as xgb"
   ]
  },
  {
   "cell_type": "code",
   "execution_count": 36,
   "metadata": {},
   "outputs": [],
   "source": [
    "y = df[\"value\"].values\n",
    "img_list = []"
   ]
  },
  {
   "cell_type": "code",
   "execution_count": 37,
   "metadata": {},
   "outputs": [],
   "source": [
    "for index,path in enumerate(df[\"image_path\"]):\n",
    "    img_normalized = cv2.imread(path)/255.0\n",
    "    img_reshaped = img_normalized.reshape(-1)\n",
    "    img_list.append(img_reshaped)\n",
    "X = pd.DataFrame(img_list)"
   ]
  },
  {
   "cell_type": "code",
   "execution_count": 43,
   "metadata": {},
   "outputs": [],
   "source": [
    "train_x, test_x, train_y, test_y = train_test_split(\n",
    "    X.values, y, test_size=0.2, shuffle=True\n",
    "    )\n",
    "\n",
    "dtrain = xgb.DMatrix(train_x, label=train_y)\n",
    "\n",
    "param = {'max_depth': 2, 'eta': 0.9, 'objective': 'multi:softmax', 'num_class': 71}\n",
    "\n",
    "num_round = 10\n",
    "bst = xgb.train(param, dtrain, num_round)"
   ]
  },
  {
   "cell_type": "code",
   "execution_count": 63,
   "metadata": {},
   "outputs": [],
   "source": [
    "dtest = xgb.DMatrix(test_x)\n",
    "pred = bst.predict(dtest)"
   ]
  },
  {
   "cell_type": "code",
   "execution_count": 71,
   "metadata": {},
   "outputs": [
    {
     "name": "stdout",
     "output_type": "stream",
     "text": [
      "score:0.9100\n"
     ]
    }
   ],
   "source": [
    "from sklearn.metrics import accuracy_score\n",
    "\n",
    "score = accuracy_score(test_y, pred)\n",
    "print('score:{0:.4f}'.format(score))"
   ]
  },
  {
   "cell_type": "code",
   "execution_count": 62,
   "metadata": {},
   "outputs": [],
   "source": [
    "#configとmodelの保存\n",
    "bst.save_model(\"../models/xgbClassifier.json\")\n",
    "config = bst.save_config()\n",
    "with open ('../configs/default.json','w') as f:\n",
    "    f.write(config)"
   ]
  },
  {
   "cell_type": "code",
   "execution_count": 70,
   "metadata": {},
   "outputs": [],
   "source": [
    "#モデルをロードして分類\n",
    "with open ('../configs/default.json') as f:\n",
    "    conf = f.read()\n",
    "\n",
    "bst2 = xgb.Booster(model_file=\"../models/xgbClassifier.json\")\n",
    "\n",
    "pred = bst2.predict(dtest)"
   ]
  },
  {
   "cell_type": "code",
   "execution_count": 65,
   "metadata": {},
   "outputs": [
    {
     "data": {
      "text/plain": [
       "array([66., 28., 14., 59., 63., 41., 35., 29., 66., 14., 30., 36., 42.,\n",
       "       63.,  4., 42., 39.,  9., 42., 20., 43., 20.,  4., 36., 47., 44.,\n",
       "       40., 49., 54., 12., 63., 27., 12., 22., 58., 33., 35.,  4., 32.,\n",
       "       33., 12., 55., 33., 26., 65., 66., 26., 65., 30., 50., 32., 20.,\n",
       "       34., 14., 60., 48., 29., 32., 37., 43., 46., 35., 14., 50., 65.,\n",
       "       35., 35., 41., 18., 63., 24., 42.,  0., 43., 52., 67., 52., 33.,\n",
       "       56., 32., 15., 32., 20., 32., 33., 34., 52., 46., 60.,  6., 19.,\n",
       "       19.,  3., 34., 35., 51., 16., 19., 56., 68.], dtype=float32)"
      ]
     },
     "execution_count": 65,
     "metadata": {},
     "output_type": "execute_result"
    }
   ],
   "source": [
    "bst.predict(dtest)"
   ]
  },
  {
   "cell_type": "code",
   "execution_count": 66,
   "metadata": {},
   "outputs": [
    {
     "data": {
      "text/plain": [
       "array([66, 28, 14, 59, 63, 41, 35, 29, 66, 14, 30, 36, 45, 63,  4, 45, 39,\n",
       "        9, 45, 20, 43, 20,  4, 36, 47, 44, 40, 49, 54, 13, 63, 27, 12, 22,\n",
       "       58, 33, 35,  4, 32, 23, 13, 55, 33, 26, 65, 66, 26, 65, 30, 50, 32,\n",
       "       20, 34, 14, 60, 48, 29, 32, 37, 43, 46, 35, 14, 50, 65, 35, 35, 41,\n",
       "       18, 63, 24, 45,  0, 43, 52, 67, 52, 23, 56, 32, 15, 32, 20, 32, 13,\n",
       "       34, 52, 46, 60,  6, 19, 19,  3, 34, 35, 51, 16, 19, 56, 68])"
      ]
     },
     "execution_count": 66,
     "metadata": {},
     "output_type": "execute_result"
    }
   ],
   "source": [
    "test_y"
   ]
  },
  {
   "cell_type": "code",
   "execution_count": 69,
   "metadata": {},
   "outputs": [
    {
     "data": {
      "text/plain": [
       "array([44.], dtype=float32)"
      ]
     },
     "execution_count": 69,
     "metadata": {},
     "output_type": "execute_result"
    }
   ],
   "source": [
    "#一枚だけ入力する場合\n",
    "X.iloc[100]\n",
    "y[100]\n",
    "sample = xgb.DMatrix(X.iloc[100].values.reshape(1,768))\n",
    "pred = bst.predict(sample)\n",
    "pred"
   ]
  },
  {
   "cell_type": "code",
   "execution_count": 2,
   "metadata": {
    "code_folding": [
     1,
     12
    ]
   },
   "outputs": [],
   "source": [
    "import time\n",
    "def pil2cv(image):\n",
    "    ''' PIL型 -> OpenCV型 '''\n",
    "    new_image = np.array(image, dtype=np.uint8)\n",
    "    if new_image.ndim == 2:  # モノクロ\n",
    "        pass\n",
    "    elif new_image.shape[2] == 3:  # カラー\n",
    "        new_image = cv2.cvtColor(new_image, cv2.COLOR_RGB2BGR)\n",
    "    elif new_image.shape[2] == 4:  # 透過\n",
    "        new_image = cv2.cvtColor(new_image, cv2.COLOR_RGBA2BGRA)\n",
    "    return new_image\n",
    "\n",
    "def cv2pil(image):\n",
    "    \"\"\"OpenCV型→PIL型\n",
    "\n",
    "    Args:\n",
    "        image(np.ndarray): OpenCVで読んだ画像データ\n",
    "    Return:\n",
    "        new_image(PIL.Image.Image):PIL型の画像データ\n",
    "    \"\"\"\n",
    "\n",
    "    new_image = image.copy()\n",
    "    if new_image.ndim == 2:  # モノクロ\n",
    "        pass\n",
    "    elif new_image.shape[2] == 3:  # カラー\n",
    "        new_image = cv2.cvtColor(image, cv2.COLOR_BGR2RGB)\n",
    "    elif new_image.shape[2] == 4:  # 透過\n",
    "        new_image = cv2.cvtColor(image, cv2.COLOR_BGRA2RGBA)\n",
    "    new_image = Image.fromarray(new_image)\n",
    "    return new_image"
   ]
  }
 ],
 "metadata": {
  "kernelspec": {
   "display_name": "Python 3",
   "language": "python",
   "name": "python3"
  },
  "language_info": {
   "codemirror_mode": {
    "name": "ipython",
    "version": 3
   },
   "file_extension": ".py",
   "mimetype": "text/x-python",
   "name": "python",
   "nbconvert_exporter": "python",
   "pygments_lexer": "ipython3",
   "version": "3.8.2"
  }
 },
 "nbformat": 4,
 "nbformat_minor": 4
}
